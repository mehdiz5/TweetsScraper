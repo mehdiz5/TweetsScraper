{
  "cells": [
    {
      "cell_type": "markdown",
      "metadata": {
        "id": "view-in-github",
        "colab_type": "text"
      },
      "source": [
        "<a href=\"https://colab.research.google.com/github/mehdiz5/TweetsScraper/blob/main/tweetsscraper.ipynb\" target=\"_parent\"><img src=\"https://colab.research.google.com/assets/colab-badge.svg\" alt=\"Open In Colab\"/></a>"
      ]
    },
    {
      "cell_type": "code",
      "execution_count": null,
      "metadata": {
        "colab": {
          "base_uri": "https://localhost:8080/"
        },
        "id": "pB4icQtqd892",
        "outputId": "53ed562b-65e9-47a8-f44e-c74dae83955b"
      },
      "outputs": [
        {
          "output_type": "stream",
          "name": "stdout",
          "text": [
            "Looking in indexes: https://pypi.org/simple, https://us-python.pkg.dev/colab-wheels/public/simple/\n",
            "Requirement already satisfied: snscrape in /usr/local/lib/python3.8/dist-packages (0.5.0.20230113)\n",
            "Requirement already satisfied: requests[socks] in /usr/local/lib/python3.8/dist-packages (from snscrape) (2.25.1)\n",
            "Requirement already satisfied: lxml in /usr/local/lib/python3.8/dist-packages (from snscrape) (4.9.2)\n",
            "Requirement already satisfied: pytz in /usr/local/lib/python3.8/dist-packages (from snscrape) (2022.7.1)\n",
            "Requirement already satisfied: filelock in /usr/local/lib/python3.8/dist-packages (from snscrape) (3.9.0)\n",
            "Requirement already satisfied: beautifulsoup4 in /usr/local/lib/python3.8/dist-packages (from snscrape) (4.6.3)\n",
            "Requirement already satisfied: idna<3,>=2.5 in /usr/local/lib/python3.8/dist-packages (from requests[socks]->snscrape) (2.10)\n",
            "Requirement already satisfied: certifi>=2017.4.17 in /usr/local/lib/python3.8/dist-packages (from requests[socks]->snscrape) (2022.12.7)\n",
            "Requirement already satisfied: urllib3<1.27,>=1.21.1 in /usr/local/lib/python3.8/dist-packages (from requests[socks]->snscrape) (1.24.3)\n",
            "Requirement already satisfied: chardet<5,>=3.0.2 in /usr/local/lib/python3.8/dist-packages (from requests[socks]->snscrape) (4.0.0)\n",
            "Requirement already satisfied: PySocks!=1.5.7,>=1.5.6 in /usr/local/lib/python3.8/dist-packages (from requests[socks]->snscrape) (1.7.1)\n"
          ]
        }
      ],
      "source": [
        "!pip install snscrape"
      ]
    },
    {
      "cell_type": "markdown",
      "metadata": {
        "id": "qCLwdd-rducS"
      },
      "source": [
        "# Imports"
      ]
    },
    {
      "cell_type": "code",
      "execution_count": null,
      "metadata": {
        "id": "BsburFCpdm2k"
      },
      "outputs": [],
      "source": [
        "import snscrape.modules.twitter as sntwitter\n",
        "import pandas as pd"
      ]
    },
    {
      "cell_type": "code",
      "source": [
        "queries = ['python tutorial']"
      ],
      "metadata": {
        "id": "YjOC-pdkm0r1"
      },
      "execution_count": null,
      "outputs": []
    },
    {
      "cell_type": "code",
      "source": [],
      "metadata": {
        "id": "LmSq8Fpvm5rm"
      },
      "execution_count": null,
      "outputs": []
    },
    {
      "cell_type": "markdown",
      "metadata": {
        "id": "-Pv04XmXdtdJ"
      },
      "source": [
        "# Scraping"
      ]
    },
    {
      "cell_type": "markdown",
      "metadata": {
        "id": "7a_i9m9Ze64p"
      },
      "source": [
        "## 1. Roadmap"
      ]
    },
    {
      "cell_type": "code",
      "execution_count": null,
      "metadata": {
        "id": "Z7yxf6Z8e99z"
      },
      "outputs": [],
      "source": [
        "roadmaps = {\"machine learning\": [\"learn python\",\"learn supervised learning\",\"learn unsupervised learning\"]}"
      ]
    },
    {
      "cell_type": "markdown",
      "metadata": {
        "id": "rCyTI2qxsGV0"
      },
      "source": [
        "## 2. Scraper"
      ]
    },
    {
      "cell_type": "code",
      "execution_count": null,
      "metadata": {
        "id": "ctsBNleZeU7i"
      },
      "outputs": [],
      "source": [
        "tweets = []\n",
        "limit_per_sub = 1000\n",
        "cpt = 0"
      ]
    },
    {
      "cell_type": "code",
      "execution_count": null,
      "metadata": {
        "id": "EmqchXhOeclH",
        "colab": {
          "base_uri": "https://localhost:8080/"
        },
        "outputId": "b36c3ce1-07d1-444f-f2d2-4b3d30d72098"
      },
      "outputs": [
        {
          "output_type": "stream",
          "name": "stdout",
          "text": [
            "https://twitter.com/freeCodeCamp/status/1578324756826411013\n",
            "https://twitter.com/freeCodeCamp/status/1570759912174526464\n",
            "https://twitter.com/freeCodeCamp/status/1538930178402959361\n",
            "https://twitter.com/freeCodeCamp/status/1511011203073589253\n",
            "https://twitter.com/freeCodeCamp/status/1501528479166341124\n",
            "https://twitter.com/freeCodeCamp/status/1450869928307867653\n",
            "https://twitter.com/freeCodeCamp/status/1450100356420182017\n",
            "https://twitter.com/freeCodeCamp/status/1446808164268191748\n"
          ]
        },
        {
          "output_type": "stream",
          "name": "stderr",
          "text": [
            "<ipython-input-240-ca3a632a6142>:14: FutureWarning: username is deprecated, use user.username instead\n",
            "  tweets.append([\"machine learning\",query,tweet.date, tweet.username, tweet.content, link])\n",
            "<ipython-input-240-ca3a632a6142>:14: FutureWarning: content is deprecated, use rawContent instead\n",
            "  tweets.append([\"machine learning\",query,tweet.date, tweet.username, tweet.content, link])\n"
          ]
        },
        {
          "output_type": "stream",
          "name": "stdout",
          "text": [
            "https://twitter.com/freeCodeCamp/status/1311018165514702854\n",
            "https://twitter.com/freeCodeCamp/status/1283446734111346688\n",
            "https://twitter.com/freeCodeCamp/status/1280094391567253504\n",
            "https://twitter.com/freeCodeCamp/status/1279475565003767808\n",
            "https://twitter.com/freeCodeCamp/status/1275851697299099653\n",
            "https://twitter.com/freeCodeCamp/status/1275020975571075073\n",
            "https://twitter.com/freeCodeCamp/status/1252643766416130051\n",
            "https://twitter.com/freeCodeCamp/status/1247102000434683904\n",
            "https://twitter.com/freeCodeCamp/status/1243961557232562178\n",
            "https://twitter.com/freeCodeCamp/status/1239204962481197057\n",
            "https://twitter.com/freeCodeCamp/status/1237741065295233026\n",
            "https://twitter.com/freeCodeCamp/status/1235203847825616896\n",
            "https://twitter.com/freeCodeCamp/status/1234871411493212160\n",
            "https://twitter.com/freeCodeCamp/status/1231972338259910656\n",
            "https://twitter.com/freeCodeCamp/status/1229813225493073920\n",
            "https://twitter.com/freeCodeCamp/status/1227200864525352960\n",
            "https://twitter.com/freeCodeCamp/status/1225419383360643072\n",
            "https://twitter.com/freeCodeCamp/status/1222551665917747200\n",
            "https://twitter.com/freeCodeCamp/status/1179743407251566592\n",
            "https://twitter.com/freeCodeCamp/status/1177916366441123841\n",
            "https://twitter.com/freeCodeCamp/status/1177206687503134720\n",
            "https://twitter.com/freeCodeCamp/status/1154135163544190976\n",
            "https://twitter.com/freeCodeCamp/status/1138778476738203648\n",
            "https://twitter.com/freeCodeCamp/status/1137102933739409409\n",
            "https://twitter.com/freeCodeCamp/status/1133070868094046208\n",
            "https://twitter.com/freeCodeCamp/status/1108126504402198533\n",
            "https://twitter.com/freeCodeCamp/status/1103687002241880065\n",
            "https://twitter.com/freeCodeCamp/status/1099399249643687936\n",
            "https://twitter.com/freeCodeCamp/status/1096560038569758720\n",
            "https://twitter.com/freeCodeCamp/status/1090022209031163907\n",
            "https://twitter.com/freeCodeCamp/status/1079377063361028096\n",
            "https://twitter.com/freeCodeCamp/status/1076855951926480901\n",
            "https://twitter.com/freeCodeCamp/status/1072975380645064704\n",
            "https://twitter.com/freeCodeCamp/status/1048921383844106240\n",
            "https://twitter.com/freeCodeCamp/status/1045251960490905600\n",
            "https://twitter.com/freeCodeCamp/status/1044331645329960960\n",
            "https://twitter.com/freeCodeCamp/status/1036404404889505793\n",
            "https://twitter.com/freeCodeCamp/status/1032221099998814209\n",
            "https://twitter.com/freeCodeCamp/status/1028024191239577601\n",
            "https://twitter.com/freeCodeCamp/status/1025698110524338177\n",
            "https://twitter.com/freeCodeCamp/status/1024098320044777473\n",
            "https://twitter.com/freeCodeCamp/status/1022950760785559552\n",
            "https://twitter.com/freeCodeCamp/status/1021379930997837824\n",
            "https://twitter.com/freeCodeCamp/status/1021033130327756800\n",
            "https://twitter.com/freeCodeCamp/status/1020624684633804801\n",
            "https://twitter.com/freeCodeCamp/status/1008741418133868545\n",
            "https://twitter.com/freeCodeCamp/status/1007246787810295808\n",
            "https://twitter.com/freeCodeCamp/status/1000452338564390915\n",
            "https://twitter.com/freeCodeCamp/status/1000074542373588993\n",
            "https://twitter.com/freeCodeCamp/status/998881421287739392\n",
            "https://twitter.com/freeCodeCamp/status/984370827029372928\n",
            "https://twitter.com/freeCodeCamp/status/978255757891252224\n",
            "https://twitter.com/freeCodeCamp/status/971339941706903552\n",
            "https://twitter.com/freeCodeCamp/status/968169303756468229\n",
            "https://twitter.com/freeCodeCamp/status/946063483858190336\n",
            "https://twitter.com/freeCodeCamp/status/926419213962620928\n"
          ]
        }
      ],
      "source": [
        "# for query in roadmaps[\"machine learning\"]:\n",
        "# clcoding, LearnPython_Onl, CoreyMSchafer, \n",
        "# TechWithTimm => chatbot (lien de playlist), flappy bird, machine learning\n",
        "# freeCodeCamp => django (course), blockchains and cryptocurrencies in Python, Learn Python by immersion, StreetFighter, \n",
        "for tweet in sntwitter.TwitterSearchScraper(\"tensorflow freecodecamp.org from:freeCodeCamp\").get_items():\n",
        "    cpt += 1\n",
        "    link = None\n",
        "    print(tweet)\n",
        "    if (tweet.links != None):\n",
        "      link = tweet.links[0].url\n",
        "    if cpt == limit_per_sub:\n",
        "        break\n",
        "    else:\n",
        "        tweets.append([\"machine learning\",query,tweet.date, tweet.username, tweet.content, link])\n",
        "\n",
        "cpt = 0\n",
        "\n",
        "df = pd.DataFrame(tweets, columns=['roadmap','subtheme','Date', 'User', 'Tweet', 'link'])"
      ]
    },
    {
      "cell_type": "code",
      "execution_count": null,
      "metadata": {
        "colab": {
          "base_uri": "https://localhost:8080/",
          "height": 206
        },
        "id": "KcCnVERyef8z",
        "outputId": "82f21711-a6c8-4a7c-ad0e-fbe50bfbd241"
      },
      "outputs": [
        {
          "output_type": "execute_result",
          "data": {
            "text/plain": [
              "            roadmap                     subtheme                      Date  \\\n",
              "0  machine learning  learn unsupervised learning 2019-01-27 19:54:23+00:00   \n",
              "1  machine learning  learn unsupervised learning 2019-01-26 20:01:07+00:00   \n",
              "2  machine learning  learn unsupervised learning 2019-01-25 20:00:41+00:00   \n",
              "3  machine learning  learn unsupervised learning 2019-01-24 19:41:07+00:00   \n",
              "4  machine learning  learn unsupervised learning 2019-01-23 20:00:55+00:00   \n",
              "\n",
              "           User                                              Tweet  \\\n",
              "0  TechWithTimm  Python Machine Learning #12 - Implementing K M...   \n",
              "1  TechWithTimm  Python machine Learning Tutorial #11 - How K M...   \n",
              "2  TechWithTimm  Python Machine Learning Tutorial #10 - SVM P.3...   \n",
              "3  TechWithTimm  Python Machine Learning Tutorial #9 - SVM P.2 ...   \n",
              "4  TechWithTimm  Python Machine Learning Tutorial #8 - Using Sk...   \n",
              "\n",
              "                            link  \n",
              "0  http://youtu.be/zixd-si9Q-o?a  \n",
              "1  http://youtu.be/g1Zbuk1gAfk?a  \n",
              "2  http://youtu.be/l2I8NycJMCY?a  \n",
              "3  http://youtu.be/JHxyrMgOUWI?a  \n",
              "4  http://youtu.be/dNBvQ38MlT8?a  "
            ],
            "text/html": [
              "\n",
              "  <div id=\"df-fea8b28e-84b8-4c9c-b287-b3c3cea3f505\">\n",
              "    <div class=\"colab-df-container\">\n",
              "      <div>\n",
              "<style scoped>\n",
              "    .dataframe tbody tr th:only-of-type {\n",
              "        vertical-align: middle;\n",
              "    }\n",
              "\n",
              "    .dataframe tbody tr th {\n",
              "        vertical-align: top;\n",
              "    }\n",
              "\n",
              "    .dataframe thead th {\n",
              "        text-align: right;\n",
              "    }\n",
              "</style>\n",
              "<table border=\"1\" class=\"dataframe\">\n",
              "  <thead>\n",
              "    <tr style=\"text-align: right;\">\n",
              "      <th></th>\n",
              "      <th>roadmap</th>\n",
              "      <th>subtheme</th>\n",
              "      <th>Date</th>\n",
              "      <th>User</th>\n",
              "      <th>Tweet</th>\n",
              "      <th>link</th>\n",
              "    </tr>\n",
              "  </thead>\n",
              "  <tbody>\n",
              "    <tr>\n",
              "      <th>0</th>\n",
              "      <td>machine learning</td>\n",
              "      <td>learn unsupervised learning</td>\n",
              "      <td>2019-01-27 19:54:23+00:00</td>\n",
              "      <td>TechWithTimm</td>\n",
              "      <td>Python Machine Learning #12 - Implementing K M...</td>\n",
              "      <td>http://youtu.be/zixd-si9Q-o?a</td>\n",
              "    </tr>\n",
              "    <tr>\n",
              "      <th>1</th>\n",
              "      <td>machine learning</td>\n",
              "      <td>learn unsupervised learning</td>\n",
              "      <td>2019-01-26 20:01:07+00:00</td>\n",
              "      <td>TechWithTimm</td>\n",
              "      <td>Python machine Learning Tutorial #11 - How K M...</td>\n",
              "      <td>http://youtu.be/g1Zbuk1gAfk?a</td>\n",
              "    </tr>\n",
              "    <tr>\n",
              "      <th>2</th>\n",
              "      <td>machine learning</td>\n",
              "      <td>learn unsupervised learning</td>\n",
              "      <td>2019-01-25 20:00:41+00:00</td>\n",
              "      <td>TechWithTimm</td>\n",
              "      <td>Python Machine Learning Tutorial #10 - SVM P.3...</td>\n",
              "      <td>http://youtu.be/l2I8NycJMCY?a</td>\n",
              "    </tr>\n",
              "    <tr>\n",
              "      <th>3</th>\n",
              "      <td>machine learning</td>\n",
              "      <td>learn unsupervised learning</td>\n",
              "      <td>2019-01-24 19:41:07+00:00</td>\n",
              "      <td>TechWithTimm</td>\n",
              "      <td>Python Machine Learning Tutorial #9 - SVM P.2 ...</td>\n",
              "      <td>http://youtu.be/JHxyrMgOUWI?a</td>\n",
              "    </tr>\n",
              "    <tr>\n",
              "      <th>4</th>\n",
              "      <td>machine learning</td>\n",
              "      <td>learn unsupervised learning</td>\n",
              "      <td>2019-01-23 20:00:55+00:00</td>\n",
              "      <td>TechWithTimm</td>\n",
              "      <td>Python Machine Learning Tutorial #8 - Using Sk...</td>\n",
              "      <td>http://youtu.be/dNBvQ38MlT8?a</td>\n",
              "    </tr>\n",
              "  </tbody>\n",
              "</table>\n",
              "</div>\n",
              "      <button class=\"colab-df-convert\" onclick=\"convertToInteractive('df-fea8b28e-84b8-4c9c-b287-b3c3cea3f505')\"\n",
              "              title=\"Convert this dataframe to an interactive table.\"\n",
              "              style=\"display:none;\">\n",
              "        \n",
              "  <svg xmlns=\"http://www.w3.org/2000/svg\" height=\"24px\"viewBox=\"0 0 24 24\"\n",
              "       width=\"24px\">\n",
              "    <path d=\"M0 0h24v24H0V0z\" fill=\"none\"/>\n",
              "    <path d=\"M18.56 5.44l.94 2.06.94-2.06 2.06-.94-2.06-.94-.94-2.06-.94 2.06-2.06.94zm-11 1L8.5 8.5l.94-2.06 2.06-.94-2.06-.94L8.5 2.5l-.94 2.06-2.06.94zm10 10l.94 2.06.94-2.06 2.06-.94-2.06-.94-.94-2.06-.94 2.06-2.06.94z\"/><path d=\"M17.41 7.96l-1.37-1.37c-.4-.4-.92-.59-1.43-.59-.52 0-1.04.2-1.43.59L10.3 9.45l-7.72 7.72c-.78.78-.78 2.05 0 2.83L4 21.41c.39.39.9.59 1.41.59.51 0 1.02-.2 1.41-.59l7.78-7.78 2.81-2.81c.8-.78.8-2.07 0-2.86zM5.41 20L4 18.59l7.72-7.72 1.47 1.35L5.41 20z\"/>\n",
              "  </svg>\n",
              "      </button>\n",
              "      \n",
              "  <style>\n",
              "    .colab-df-container {\n",
              "      display:flex;\n",
              "      flex-wrap:wrap;\n",
              "      gap: 12px;\n",
              "    }\n",
              "\n",
              "    .colab-df-convert {\n",
              "      background-color: #E8F0FE;\n",
              "      border: none;\n",
              "      border-radius: 50%;\n",
              "      cursor: pointer;\n",
              "      display: none;\n",
              "      fill: #1967D2;\n",
              "      height: 32px;\n",
              "      padding: 0 0 0 0;\n",
              "      width: 32px;\n",
              "    }\n",
              "\n",
              "    .colab-df-convert:hover {\n",
              "      background-color: #E2EBFA;\n",
              "      box-shadow: 0px 1px 2px rgba(60, 64, 67, 0.3), 0px 1px 3px 1px rgba(60, 64, 67, 0.15);\n",
              "      fill: #174EA6;\n",
              "    }\n",
              "\n",
              "    [theme=dark] .colab-df-convert {\n",
              "      background-color: #3B4455;\n",
              "      fill: #D2E3FC;\n",
              "    }\n",
              "\n",
              "    [theme=dark] .colab-df-convert:hover {\n",
              "      background-color: #434B5C;\n",
              "      box-shadow: 0px 1px 3px 1px rgba(0, 0, 0, 0.15);\n",
              "      filter: drop-shadow(0px 1px 2px rgba(0, 0, 0, 0.3));\n",
              "      fill: #FFFFFF;\n",
              "    }\n",
              "  </style>\n",
              "\n",
              "      <script>\n",
              "        const buttonEl =\n",
              "          document.querySelector('#df-fea8b28e-84b8-4c9c-b287-b3c3cea3f505 button.colab-df-convert');\n",
              "        buttonEl.style.display =\n",
              "          google.colab.kernel.accessAllowed ? 'block' : 'none';\n",
              "\n",
              "        async function convertToInteractive(key) {\n",
              "          const element = document.querySelector('#df-fea8b28e-84b8-4c9c-b287-b3c3cea3f505');\n",
              "          const dataTable =\n",
              "            await google.colab.kernel.invokeFunction('convertToInteractive',\n",
              "                                                     [key], {});\n",
              "          if (!dataTable) return;\n",
              "\n",
              "          const docLinkHtml = 'Like what you see? Visit the ' +\n",
              "            '<a target=\"_blank\" href=https://colab.research.google.com/notebooks/data_table.ipynb>data table notebook</a>'\n",
              "            + ' to learn more about interactive tables.';\n",
              "          element.innerHTML = '';\n",
              "          dataTable['output_type'] = 'display_data';\n",
              "          await google.colab.output.renderOutput(dataTable, element);\n",
              "          const docLink = document.createElement('div');\n",
              "          docLink.innerHTML = docLinkHtml;\n",
              "          element.appendChild(docLink);\n",
              "        }\n",
              "      </script>\n",
              "    </div>\n",
              "  </div>\n",
              "  "
            ]
          },
          "metadata": {},
          "execution_count": 198
        }
      ],
      "source": [
        "df.head()"
      ]
    },
    {
      "cell_type": "code",
      "execution_count": null,
      "metadata": {
        "colab": {
          "base_uri": "https://localhost:8080/"
        },
        "id": "ededGZaLewmg",
        "outputId": "f97b6980-b571-46bf-8888-bfbe3333c20d"
      },
      "outputs": [
        {
          "output_type": "execute_result",
          "data": {
            "text/plain": [
              "0     http://youtu.be/zixd-si9Q-o?a\n",
              "1     http://youtu.be/g1Zbuk1gAfk?a\n",
              "2     http://youtu.be/l2I8NycJMCY?a\n",
              "3     http://youtu.be/JHxyrMgOUWI?a\n",
              "4     http://youtu.be/dNBvQ38MlT8?a\n",
              "5     http://youtu.be/vwLT6bZrHEE?a\n",
              "6     http://youtu.be/vwLT6bZrHEE?a\n",
              "7     http://youtu.be/ddqQUz9mZaM?a\n",
              "8     http://youtu.be/3AQ_74xrch8?a\n",
              "9     http://youtu.be/1BYu65vLKdA?a\n",
              "10    http://youtu.be/45ryDIPHdGg?a\n",
              "11    http://youtu.be/ujTCoH21GlA?a\n",
              "12     https://youtu.be/Z4D3M-NSN58\n",
              "13     https://youtu.be/Z4D3M-NSN58\n",
              "Name: link, dtype: object"
            ]
          },
          "metadata": {},
          "execution_count": 192
        }
      ],
      "source": [
        "df.link"
      ]
    },
    {
      "cell_type": "code",
      "source": [],
      "metadata": {
        "id": "QGGrBWMJkUGt"
      },
      "execution_count": null,
      "outputs": []
    }
  ],
  "metadata": {
    "colab": {
      "provenance": [],
      "include_colab_link": true
    },
    "kernelspec": {
      "display_name": "Python 3",
      "name": "python3"
    },
    "language_info": {
      "name": "python"
    }
  },
  "nbformat": 4,
  "nbformat_minor": 0
}